{
 "cells": [
  {
   "cell_type": "code",
   "execution_count": 9,
   "metadata": {},
   "outputs": [
    {
     "name": "stdout",
     "output_type": "stream",
     "text": [
      "Enter a=\n",
      "Enter b=\n",
      "sum:29 sub:1 multply:210\n",
      "quotient:1.0714285714285714 remainder:1 log_10:1.1760912590556813 power:29192926025390625\n"
     ]
    }
   ],
   "source": [
    "#Q1\n",
    "import math\n",
    "print(f\"Enter a=\")\n",
    "a=int(input (\"a:\"))\n",
    "print(f\"Enter b=\")\n",
    "b=int(input (\"b:\"))\n",
    "sum=a+b\n",
    "sub=a//b\n",
    "multply=a*b\n",
    "quotient=a/b\n",
    "remainder=a%b\n",
    "log_10=math.log10(a)\n",
    "power=a**b\n",
    "\n",
    "print (f\"sum:{sum} sub:{sub} multply:{multply}\")\n",
    "print (f\"quotient:{quotient} remainder:{remainder} log_10:{log_10} power:{power}\")"
   ]
  },
  {
   "cell_type": "code",
   "execution_count": 19,
   "metadata": {},
   "outputs": [
    {
     "name": "stdout",
     "output_type": "stream",
     "text": [
      "input mpg :\n",
      "12.0 miles-per-gallon are equivalent 19.600833333333334 L/100km\n"
     ]
    }
   ],
   "source": [
    "#Q2\n",
    "print (f\"input mpg :\")\n",
    "mpg=float(input())\n",
    "liters_per_hund_km= 235.21/mpg\n",
    "print(mpg, \"miles-per-gallon are equivalent\", liters_per_hund_km, \"L/100km\")"
   ]
  },
  {
   "cell_type": "code",
   "execution_count": 22,
   "metadata": {},
   "outputs": [
    {
     "name": "stdout",
     "output_type": "stream",
     "text": [
      "The latitude and longitude of your first location is (59.425279,32.6103)\n",
      "\n",
      "The latitude and longitude of your first location is (17.840057,51.562301)\n",
      "\n",
      "The distance between them is approximately:   4870.71  Killometers! \n",
      "\n"
     ]
    }
   ],
   "source": [
    "#Q3\n",
    "import math\n",
    "import time\n",
    "\n",
    "# POINT 1\n",
    "latitude1 = math.radians(float(input(\"please eneter the first latitude  : \")))\n",
    "longitude1 = math.radians((float(input(\"please eneter the first longitude  : \"))))\n",
    "    \n",
    "# POINT 2\n",
    "latitude2 = math.radians(float(input(\"please eneter the second latitude : \")))\n",
    "longitude2 = math.radians(float(input(\"please eneter the second longitude : \")))\n",
    "\n",
    "# DISTANCE\n",
    "distance = round(6371.01 * math.acos(math.sin(latitude1) * math.sin(latitude2) + math.cos(latitude1)* math.cos(latitude2)* math.cos(longitude1- longitude2)),2)\n",
    "\n",
    "\n",
    "print(f\"The latitude and longitude of your first location is ({math.degrees(latitude1)},{math.degrees(longitude1)})\\n\")\n",
    "print(f\"The latitude and longitude of your first location is ({math.degrees(latitude2)},{math.degrees(longitude2)})\\n\")\n",
    "print(\"The distance between them is approximately:  \", distance , \" Killometers!\",\"\\n\")"
   ]
  },
  {
   "cell_type": "code",
   "execution_count": 25,
   "metadata": {},
   "outputs": [
    {
     "name": "stdout",
     "output_type": "stream",
     "text": [
      "distance_in_feet =  155.0\n",
      "\n",
      "distance_in_inches = 1860.0\n",
      "\n",
      "distance_in_yards =  51.666666666666664\n",
      "\n",
      "distance_in_miles =  0.029356060606060608\n",
      "\n"
     ]
    }
   ],
   "source": [
    "#Q4\n",
    "\n",
    "import math \n",
    "\n",
    "distance_feet = float(input(\"please eneter the distance in feet : \"))\n",
    "\n",
    "distance_inches = distance_feet * 12\n",
    "\n",
    "distance_yards = distance_feet / 3\n",
    "\n",
    "distance_miles = distance_feet / 5280\n",
    "\n",
    "print(f\"distance_in_feet =  {distance_feet}\\n\")\n",
    "print(f\"distance_in_inches = {distance_inches}\\n\")\n",
    "print(f\"distance_in_yards =  {distance_yards}\\n\")\n",
    "print(f\"distance_in_miles =  {distance_miles}\\n\")\n",
    "\n"
   ]
  },
  {
   "cell_type": "code",
   "execution_count": 32,
   "metadata": {},
   "outputs": [
    {
     "name": "stdout",
     "output_type": "stream",
     "text": [
      "-1.2246467991473532e-16\n"
     ]
    }
   ],
   "source": [
    "#Q5\n",
    "\n",
    "\n",
    "import math\n",
    "number_of_sides = int(input(\"Enter number of sides:\"))\n",
    "len_of_sides = float(input(\"Enter the length of the sides:\"))\n",
    "area = number_of_sides * len_of_sides ** 2 / 4 * math.tan(math.pi/number_of_sides)\n",
    "print(area)\n",
    "\n"
   ]
  },
  {
   "cell_type": "code",
   "execution_count": 28,
   "metadata": {},
   "outputs": [
    {
     "name": "stdout",
     "output_type": "stream",
     "text": [
      "The time is:  Wed Nov 30 19:31:40 2022\n"
     ]
    }
   ],
   "source": [
    "#Q6\n",
    "\n",
    "import time\n",
    "\n",
    "print(\"The time is: \", time.asctime())"
   ]
  },
  {
   "cell_type": "code",
   "execution_count": 29,
   "metadata": {},
   "outputs": [
    {
     "name": "stdout",
     "output_type": "stream",
     "text": [
      "With a wind speed of 12.0Km/h and the temperature of 15.0°C, the wind chill index is 14.\n"
     ]
    }
   ],
   "source": [
    "#Q7\n",
    "import math\n",
    "\n",
    "v = float(input(\"Enter ther wind speed in kilometers/hour: \"))\n",
    "t = float(input(\"Enter the air temperature in degrees Celsius: \"))\n",
    "wci = 13.12 + 0.6215*t -  11.37*math.pow(v, 0.16) + 0.3965*t*math.pow(v, 0.16)\n",
    "print(f\"With a wind speed of {v}Km/h and the temperature of {t}°C, the wind chill index is {int(round(wci, 0))}.\")"
   ]
  },
  {
   "cell_type": "code",
   "execution_count": 31,
   "metadata": {},
   "outputs": [
    {
     "name": "stdout",
     "output_type": "stream",
     "text": [
      "The sum of digits of 135 is 9.\n"
     ]
    }
   ],
   "source": [
    "#Q8\n",
    "\n",
    "\n",
    "def sum_of_digits(n):  \n",
    "    sum = 0\n",
    "    for digit in str(n): \n",
    "      sum += int(digit)      \n",
    "    return sum\n",
    "n = int(input(\"Enter a number: \"))\n",
    "print(f\"The sum of digits of {n} is {sum_of_digits(abs(n))}.\")\n",
    "\n"
   ]
  }
 ],
 "metadata": {
  "kernelspec": {
   "display_name": "Python 3.11.0 64-bit",
   "language": "python",
   "name": "python3"
  },
  "language_info": {
   "codemirror_mode": {
    "name": "ipython",
    "version": 3
   },
   "file_extension": ".py",
   "mimetype": "text/x-python",
   "name": "python",
   "nbconvert_exporter": "python",
   "pygments_lexer": "ipython3",
   "version": "3.11.0"
  },
  "orig_nbformat": 4,
  "vscode": {
   "interpreter": {
    "hash": "b98f472bb8ba48098397e3b897b5be76f7bf0e62d98845cdb0e8066dc5677259"
   }
  }
 },
 "nbformat": 4,
 "nbformat_minor": 2
}
